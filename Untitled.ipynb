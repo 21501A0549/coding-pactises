{
 "cells": [
  {
   "cell_type": "code",
   "execution_count": 1,
   "id": "5ee08de9",
   "metadata": {},
   "outputs": [],
   "source": [
    "a=5"
   ]
  },
  {
   "cell_type": "code",
   "execution_count": 3,
   "id": "1d96601b",
   "metadata": {},
   "outputs": [
    {
     "name": "stdout",
     "output_type": "stream",
     "text": [
      "2561356884400\n"
     ]
    }
   ],
   "source": [
    "print(id(a));"
   ]
  },
  {
   "cell_type": "code",
   "execution_count": 4,
   "id": "1d5a97b5",
   "metadata": {},
   "outputs": [
    {
     "name": "stdout",
     "output_type": "stream",
     "text": [
      "2561356884400\n"
     ]
    }
   ],
   "source": [
    "print(id(5));"
   ]
  },
  {
   "cell_type": "code",
   "execution_count": 5,
   "id": "ddf66cd7",
   "metadata": {},
   "outputs": [
    {
     "name": "stdout",
     "output_type": "stream",
     "text": [
      "2561356884432\n"
     ]
    }
   ],
   "source": [
    "print(id(6));"
   ]
  },
  {
   "cell_type": "code",
   "execution_count": 6,
   "id": "c2063290",
   "metadata": {},
   "outputs": [
    {
     "name": "stdout",
     "output_type": "stream",
     "text": [
      "2561356884400\n"
     ]
    }
   ],
   "source": [
    "print(id(a));"
   ]
  },
  {
   "cell_type": "code",
   "execution_count": 7,
   "id": "6cbbe3ee",
   "metadata": {},
   "outputs": [
    {
     "data": {
      "text/plain": [
       "4.999794006347656"
      ]
     },
     "execution_count": 7,
     "metadata": {},
     "output_type": "execute_result"
    }
   ],
   "source": [
    "5-6*9/8**6"
   ]
  },
  {
   "cell_type": "code",
   "execution_count": 8,
   "id": "60855564",
   "metadata": {},
   "outputs": [
    {
     "data": {
      "text/plain": [
       "0.6666666666666666"
      ]
     },
     "execution_count": 8,
     "metadata": {},
     "output_type": "execute_result"
    }
   ],
   "source": [
    "2/3"
   ]
  },
  {
   "cell_type": "code",
   "execution_count": 9,
   "id": "f49a7e10",
   "metadata": {},
   "outputs": [
    {
     "data": {
      "text/plain": [
       "0"
      ]
     },
     "execution_count": 9,
     "metadata": {},
     "output_type": "execute_result"
    }
   ],
   "source": [
    "2//3"
   ]
  },
  {
   "cell_type": "code",
   "execution_count": 11,
   "id": "9aee6145",
   "metadata": {},
   "outputs": [],
   "source": [
    "a,b=2,3;"
   ]
  },
  {
   "cell_type": "code",
   "execution_count": 14,
   "id": "f1576f11",
   "metadata": {},
   "outputs": [
    {
     "name": "stdout",
     "output_type": "stream",
     "text": [
      "10\n",
      "9\n",
      "8\n",
      "7\n",
      "6\n",
      "5\n"
     ]
    }
   ],
   "source": [
    "for i in range(10,4,-1):\n",
    "    print(i)"
   ]
  },
  {
   "cell_type": "code",
   "execution_count": 21,
   "id": "778189dc",
   "metadata": {},
   "outputs": [
    {
     "name": "stdout",
     "output_type": "stream",
     "text": [
      "Enter a value5\n",
      "Enter a value3.5\n",
      "8.5\n"
     ]
    }
   ],
   "source": [
    "a=int(input(\"Enter a value\")) \n",
    "b=float(input(\"Enter a value\")) \n",
    "def add(c,d):\n",
    "    x=c+d\n",
    "    return x\n",
    "x=add(a,b)\n",
    "print(x)"
   ]
  },
  {
   "cell_type": "code",
   "execution_count": null,
   "id": "594f57ba",
   "metadata": {},
   "outputs": [],
   "source": []
  }
 ],
 "metadata": {
  "kernelspec": {
   "display_name": "Python 3 (ipykernel)",
   "language": "python",
   "name": "python3"
  },
  "language_info": {
   "codemirror_mode": {
    "name": "ipython",
    "version": 3
   },
   "file_extension": ".py",
   "mimetype": "text/x-python",
   "name": "python",
   "nbconvert_exporter": "python",
   "pygments_lexer": "ipython3",
   "version": "3.9.7"
  }
 },
 "nbformat": 4,
 "nbformat_minor": 5
}
